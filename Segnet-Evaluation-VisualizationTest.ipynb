{
 "cells": [
  {
   "cell_type": "code",
   "execution_count": 1,
   "metadata": {},
   "outputs": [
    {
     "name": "stderr",
     "output_type": "stream",
     "text": [
      "Using TensorFlow backend.\n"
     ]
    }
   ],
   "source": [
    "from __future__ import absolute_import\n",
    "from __future__ import print_function\n",
    "import os\n",
    "\n",
    "import keras.models as models\n",
    "from keras.layers.core import Layer, Dense, Dropout, Activation, Flatten, Reshape, Permute\n",
    "from keras.layers.convolutional import Convolution2D, MaxPooling2D, UpSampling2D, ZeroPadding2D\n",
    "from keras.layers.normalization import BatchNormalization\n",
    "from keras.callbacks import ModelCheckpoint\n",
    "\n",
    "from keras import backend as K\n",
    "\n",
    "import cv2\n",
    "import numpy as np\n",
    "import json\n",
    "np.random.seed(7) # 0bserver07 for reproducibility\n",
    "import matplotlib.pyplot as plt\n",
    "%matplotlib inline"
   ]
  },
  {
   "cell_type": "code",
   "execution_count": 2,
   "metadata": {},
   "outputs": [],
   "source": [
    "data_shape = 360*480\n",
    "\n",
    "class_weighting= [0.2595, 0.1826, 4.5640, 0.1417, 0.5051, 0.3826, 9.6446, 1.8418, 6.6823, 6.2478, 3.0, 7.3614]\n",
    "\n",
    "\n",
    "# load the model:\n",
    "with open('segNet_basic_model.json') as model_file:\n",
    "    segnet_basic = models.model_from_json(model_file.read())\n",
    "\n",
    "# Compile model (required to make predictions)\n",
    "segnet_basic.compile(loss=\"categorical_crossentropy\", optimizer='adadelta', metrics=[\"accuracy\"])\n"
   ]
  },
  {
   "cell_type": "code",
   "execution_count": 3,
   "metadata": {},
   "outputs": [
    {
     "name": "stdout",
     "output_type": "stream",
     "text": [
      "_________________________________________________________________\n",
      "Layer (type)                 Output Shape              Param #   \n",
      "=================================================================\n",
      "layer_1 (Layer)              (None, 360, 480, 3)       0         \n",
      "_________________________________________________________________\n",
      "conv2d_1 (Conv2D)            (None, 360, 480, 64)      1792      \n",
      "_________________________________________________________________\n",
      "batch_normalization_1 (Batch (None, 360, 480, 64)      256       \n",
      "_________________________________________________________________\n",
      "activation_1 (Activation)    (None, 360, 480, 64)      0         \n",
      "_________________________________________________________________\n",
      "max_pooling2d_1 (MaxPooling2 (None, 180, 240, 64)      0         \n",
      "_________________________________________________________________\n",
      "conv2d_2 (Conv2D)            (None, 180, 240, 128)     73856     \n",
      "_________________________________________________________________\n",
      "batch_normalization_2 (Batch (None, 180, 240, 128)     512       \n",
      "_________________________________________________________________\n",
      "activation_2 (Activation)    (None, 180, 240, 128)     0         \n",
      "_________________________________________________________________\n",
      "max_pooling2d_2 (MaxPooling2 (None, 90, 120, 128)      0         \n",
      "_________________________________________________________________\n",
      "conv2d_3 (Conv2D)            (None, 90, 120, 256)      295168    \n",
      "_________________________________________________________________\n",
      "batch_normalization_3 (Batch (None, 90, 120, 256)      1024      \n",
      "_________________________________________________________________\n",
      "activation_3 (Activation)    (None, 90, 120, 256)      0         \n",
      "_________________________________________________________________\n",
      "max_pooling2d_3 (MaxPooling2 (None, 45, 60, 256)       0         \n",
      "_________________________________________________________________\n",
      "conv2d_4 (Conv2D)            (None, 45, 60, 512)       1180160   \n",
      "_________________________________________________________________\n",
      "batch_normalization_4 (Batch (None, 45, 60, 512)       2048      \n",
      "_________________________________________________________________\n",
      "activation_4 (Activation)    (None, 45, 60, 512)       0         \n",
      "_________________________________________________________________\n",
      "conv2d_5 (Conv2D)            (None, 45, 60, 512)       2359808   \n",
      "_________________________________________________________________\n",
      "batch_normalization_5 (Batch (None, 45, 60, 512)       2048      \n",
      "_________________________________________________________________\n",
      "up_sampling2d_1 (UpSampling2 (None, 90, 120, 512)      0         \n",
      "_________________________________________________________________\n",
      "conv2d_6 (Conv2D)            (None, 90, 120, 256)      1179904   \n",
      "_________________________________________________________________\n",
      "batch_normalization_6 (Batch (None, 90, 120, 256)      1024      \n",
      "_________________________________________________________________\n",
      "up_sampling2d_2 (UpSampling2 (None, 180, 240, 256)     0         \n",
      "_________________________________________________________________\n",
      "conv2d_7 (Conv2D)            (None, 180, 240, 128)     295040    \n",
      "_________________________________________________________________\n",
      "batch_normalization_7 (Batch (None, 180, 240, 128)     512       \n",
      "_________________________________________________________________\n",
      "up_sampling2d_3 (UpSampling2 (None, 360, 480, 128)     0         \n",
      "_________________________________________________________________\n",
      "conv2d_8 (Conv2D)            (None, 360, 480, 64)      73792     \n",
      "_________________________________________________________________\n",
      "batch_normalization_8 (Batch (None, 360, 480, 64)      256       \n",
      "_________________________________________________________________\n",
      "conv2d_9 (Conv2D)            (None, 360, 480, 12)      780       \n",
      "_________________________________________________________________\n",
      "reshape_1 (Reshape)          (None, 12, 172800)        0         \n",
      "_________________________________________________________________\n",
      "permute_1 (Permute)          (None, 172800, 12)        0         \n",
      "_________________________________________________________________\n",
      "activation_5 (Activation)    (None, 172800, 12)        0         \n",
      "=================================================================\n",
      "Total params: 5,467,980\n",
      "Trainable params: 5,464,140\n",
      "Non-trainable params: 3,840\n",
      "_________________________________________________________________\n"
     ]
    }
   ],
   "source": [
    "segnet_basic.summary()"
   ]
  },
  {
   "cell_type": "code",
   "execution_count": 4,
   "metadata": {},
   "outputs": [],
   "source": [
    "# load the data\n",
    "train_data = np.load('./data/train_data.npy')\n",
    "train_label = np.load('./data/train_label.npy')"
   ]
  },
  {
   "cell_type": "code",
   "execution_count": null,
   "metadata": {},
   "outputs": [],
   "source": [
    "valid_data = np.load('./data/val_data.npy')\n",
    "valid_label = np.load('./data/val_label.npy')"
   ]
  },
  {
   "cell_type": "code",
   "execution_count": null,
   "metadata": {},
   "outputs": [],
   "source": [
    "\n",
    "test_data = np.load('./data/test_data.npy')\n",
    "test_label = np.load('./data/test_label.npy')"
   ]
  },
  {
   "cell_type": "code",
   "execution_count": null,
   "metadata": {},
   "outputs": [],
   "source": [
    "history = segnet_basic.fit(train_data, train_label, batch_size=3, epochs=15,\n",
    "                    verbose=1, class_weight=class_weighting , validation_data=(valid_data, valid_label),\n",
    "                    shuffle=True) # validation_split=0.33"
   ]
  },
  {
   "cell_type": "code",
   "execution_count": null,
   "metadata": {},
   "outputs": [],
   "source": [
    "batch_size = 6\n",
    "\n",
    "# estimate accuracy on whole dataset using loaded weights\n",
    "# load weights\n",
    "#segnet_basic.load_weights(\"weights.best.hdf5\")\n",
    "scores = segnet_basic.evaluate(test_data, test_label, verbose=0, batch_size=batch_size)\n",
    "print(\"%s: %.2f%%\" % (segnet_basic.metrics_names[1], scores[1]*100))"
   ]
  },
  {
   "cell_type": "code",
   "execution_count": null,
   "metadata": {},
   "outputs": [],
   "source": [
    "Sky = [128,128,128]\n",
    "Building = [128,0,0]\n",
    "Pole = [192,192,128]\n",
    "Road_marking = [255,69,0]\n",
    "Road = [128,64,128]\n",
    "Pavement = [60,40,222]\n",
    "Tree = [128,128,0]\n",
    "SignSymbol = [192,128,128]\n",
    "Fence = [64,64,128]\n",
    "Car = [64,0,128]\n",
    "Pedestrian = [64,64,0]\n",
    "Bicyclist = [0,128,192]\n",
    "Unlabelled = [0,0,0]\n",
    "\n",
    "label_colours = np.array([Sky, Building, Pole, Road, Pavement,\n",
    "                          Tree, SignSymbol, Fence, Car, Pedestrian, Bicyclist, Unlabelled])\n",
    "\n",
    "def visualize(temp, plot=True):\n",
    "    r = temp.copy()\n",
    "    g = temp.copy()\n",
    "    b = temp.copy()\n",
    "    for l in range(0,11):\n",
    "        r[temp==l]=label_colours[l,0]\n",
    "        g[temp==l]=label_colours[l,1]\n",
    "        b[temp==l]=label_colours[l,2]\n",
    "\n",
    "    rgb = np.zeros((temp.shape[0], temp.shape[1], 3))\n",
    "    rgb[:,:,0] = (r/255.0)#[:,:,0]\n",
    "    rgb[:,:,1] = (g/255.0)#[:,:,1]\n",
    "    rgb[:,:,2] = (b/255.0)#[:,:,2]\n",
    "    if plot:\n",
    "        plt.imshow(rgb)\n",
    "    else:\n",
    "        return rgb\n"
   ]
  },
  {
   "cell_type": "code",
   "execution_count": null,
   "metadata": {
    "scrolled": true
   },
   "outputs": [],
   "source": [
    "import os\n",
    "DataPath = './CamVid/'\n",
    "\n",
    "gt = []\n",
    "with open(DataPath+'train.txt') as f:\n",
    "    txt = f.readlines()\n",
    "    txt = [line.split(' ') for line in txt]\n",
    "for i in range(len(txt)):\n",
    "    gt.append(cv2.imread(os.getcwd() + txt[i][0][7:]))\n",
    "\n",
    "\n",
    "output = segnet_basic.predict_proba(train_data[23:24])\n",
    "pred = visualize(np.argmax(output[0],axis=1).reshape((360,480)), False)\n",
    "plt.imshow(pred)\n",
    "plt.figure(2)\n",
    "plt.imshow(gt[23])"
   ]
  },
  {
   "cell_type": "code",
   "execution_count": null,
   "metadata": {},
   "outputs": [],
   "source": [
    "output = segnet_basic.predict_proba(train_data[20:21])\n",
    "pred = visualize(np.argmax(output[0],axis=1).reshape((360,480)), False)\n",
    "plt.imshow(pred)\n",
    "plt.figure(2)\n",
    "plt.imshow(gt[20])"
   ]
  },
  {
   "cell_type": "code",
   "execution_count": null,
   "metadata": {},
   "outputs": [],
   "source": [
    "output = segnet_basic.predict_proba(train_data[10:11])\n",
    "pred = visualize(np.argmax(output[0],axis=1).reshape((360,480)), False)\n",
    "plt.imshow(pred)\n",
    "plt.figure(2)\n",
    "plt.imshow(gt[10])"
   ]
  },
  {
   "cell_type": "code",
   "execution_count": null,
   "metadata": {},
   "outputs": [],
   "source": [
    "# choose any image to want by specifying the index\n",
    "img_to_visualize = X_train[22:23]\n",
    "# Keras requires the image to be in 4D\n",
    "# So we add an extra dimension to it.\n",
    "img_to_visualize = np.expand_dims(img_to_visualize, axis=0)"
   ]
  },
  {
   "cell_type": "code",
   "execution_count": null,
   "metadata": {},
   "outputs": [],
   "source": [
    "def layer_to_visualize(layer):\n",
    "    inputs = [K.learning_phase()] + segnet_basic.inputs\n",
    "\n",
    "    _convout1_f = K.function(inputs, [layer.output])\n",
    "    def convout1_f(X):\n",
    "        # The [0] is to disable the training phase flag\n",
    "        return _convout1_f([0] + [X])\n",
    "\n",
    "    convolutions = convout1_f(img_to_visualize)\n",
    "    convolutions = np.squeeze(convolutions)\n",
    "\n",
    "    print ('Shape of conv:', convolutions.shape)\n",
    "    \n",
    "    n = convolutions.shape[0]\n",
    "    n = int(np.ceil(np.sqrt(n)))\n",
    "    \n",
    "    # Visualization of each filter of the layer\n",
    "    fig = plt.figure(figsize=(12,8))\n",
    "    for i in range(len(convolutions)):\n",
    "        ax = fig.add_subplot(n,n,i+1)\n",
    "        ax.imshow(convolutions[i], cmap='gray')"
   ]
  },
  {
   "cell_type": "code",
   "execution_count": null,
   "metadata": {},
   "outputs": [],
   "source": [
    "\n",
    "# Specify the layer to want to visualize\n",
    "layer_to_visualize(convout1)\n",
    "\n",
    "# As convout2 is the result of a MaxPool2D layer\n",
    "# We can see that the image has blurred since\n",
    "# the resolution has reduced \n",
    "layer_to_visualize(convout2)"
   ]
  }
 ],
 "metadata": {
  "kernelspec": {
   "display_name": "Python 3",
   "language": "python",
   "name": "python3"
  },
  "language_info": {
   "codemirror_mode": {
    "name": "ipython",
    "version": 3
   },
   "file_extension": ".py",
   "mimetype": "text/x-python",
   "name": "python",
   "nbconvert_exporter": "python",
   "pygments_lexer": "ipython3",
   "version": "3.5.2"
  }
 },
 "nbformat": 4,
 "nbformat_minor": 1
}
