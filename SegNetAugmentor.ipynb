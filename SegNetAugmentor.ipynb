{
 "cells": [
  {
   "cell_type": "markdown",
   "metadata": {},
   "source": [
    "# Training a Neural Network using Augmentor and Keras\n",
    "\n",
    "In this notebook, we will train a simple convolutional neural network on the MNIST dataset using Augmentor to augment images on the fly using a generator.\n",
    "\n",
    "## Import Required Libraries\n",
    "\n",
    "We start by making a number of imports:"
   ]
  },
  {
   "cell_type": "code",
   "execution_count": 1,
   "metadata": {},
   "outputs": [
    {
     "name": "stderr",
     "output_type": "stream",
     "text": [
      "Using TensorFlow backend.\n"
     ]
    }
   ],
   "source": [
    "import Augmentor\n",
    "\n",
    "import keras\n",
    "import keras.models as models\n",
    "\n",
    "\n",
    "import numpy as np\n",
    "import json\n",
    "import cv2\n",
    "import matplotlib.pyplot as plt\n",
    "%matplotlib inline"
   ]
  },
  {
   "cell_type": "markdown",
   "metadata": {},
   "source": [
    "## Setting parameters\n",
    "Image relevant parameters"
   ]
  },
  {
   "cell_type": "code",
   "execution_count": 2,
   "metadata": {},
   "outputs": [],
   "source": [
    "DataPath = './CamVid/'\n",
    "image_dimensions = [360,480]\n",
    "image_height  = 360\n",
    "image_width   = 480\n",
    "segment_count = 12\n",
    "data_shape    = image_height * image_width"
   ]
  },
  {
   "cell_type": "markdown",
   "metadata": {},
   "source": [
    "## Data Augmentation "
   ]
  },
  {
   "cell_type": "code",
   "execution_count": 3,
   "metadata": {},
   "outputs": [
    {
     "name": "stderr",
     "output_type": "stream",
     "text": [
      "                                                        "
     ]
    },
    {
     "name": "stdout",
     "output_type": "stream",
     "text": [
      "Initialised with 367 image(s) found.\n",
      "Output directory set to CamVid/train/output.367 ground truth image(s) found.\n"
     ]
    },
    {
     "name": "stderr",
     "output_type": "stream",
     "text": [
      "\r"
     ]
    }
   ],
   "source": [
    "p = Augmentor.Pipeline(\"CamVid/train\")\n",
    "# Point to a directory containing ground truth data.\n",
    "# Images with the same file names will be added as ground truth data\n",
    "# and augmented in parallel to the original data.\n",
    "p.ground_truth(\"CamVid/trainannot\")"
   ]
  },
  {
   "cell_type": "markdown",
   "metadata": {},
   "source": [
    "## Add Operations to the Pipeline\n",
    "\n",
    "Now that a pipeline object `p` has been created, we can add operations to the pipeline. Below we add several simple  operations:"
   ]
  },
  {
   "cell_type": "code",
   "execution_count": 4,
   "metadata": {},
   "outputs": [
    {
     "name": "stderr",
     "output_type": "stream",
     "text": [
      "                                                                                       \r"
     ]
    }
   ],
   "source": [
    "# Add operations to the pipeline as normal:\n",
    "\n",
    "p.rotate(probability=1, max_left_rotation=5, max_right_rotation=5)\n",
    "p.rotate90(probability=0.5)\n",
    "p.rotate270(probability=0.5)\n",
    "p.flip_left_right(probability=0.5)\n",
    "p.zoom_random(probability=0.5, percentage_area=0.8)\n",
    "p.crop_random(probability=1, percentage_area=0.5)\n",
    "p.resize(probability=1.0, width=256, height=192)\n",
    "#p.flip_top_bottom(probability=0.5)\n",
    "\n",
    "\n",
    "\n",
    "\n",
    "\n",
    "\n",
    "p.sample(5000)\n",
    "\n",
    "\n",
    "\n",
    "\n",
    "\n",
    "\n",
    "#p.flip_top_bottom(probability=0.1)\n",
    "#p.rotate(probability=0.3, max_left_rotation=5, max_right_rotation=5)"
   ]
  },
  {
   "cell_type": "markdown",
   "metadata": {},
   "source": [
    "You can view the status of pipeline using the `status()` function, which shows information regarding the number of classes in the pipeline, the number of images, and what operations have been added to the pipeline:"
   ]
  },
  {
   "cell_type": "code",
   "execution_count": 5,
   "metadata": {},
   "outputs": [],
   "source": [
    "import os\n",
    "import glob, shutil\n",
    "from os.path import isfile, join\n",
    "base_dir  = \"CamVid/train/output\"\n",
    "image_dir = \"CamVid/train/output/images\"\n",
    "mask_dir  = \"CamVid/train/output/masks\"\n",
    "\n",
    "if not os.path.exists(image_dir):\n",
    "    os.mkdir(image_dir);\n",
    "\n",
    "if not os.path.exists(mask_dir):\n",
    "    os.mkdir(mask_dir);\n",
    "\n",
    "    \n",
    "files = os.listdir(base_dir)\n",
    "\n",
    "for f in files:\n",
    "    if (f.startswith(\"train\")):\n",
    "        shutil.move(join(base_dir,f), image_dir)\n",
    "        filename=join(image_dir,f)\n",
    "        os.rename(filename, filename.replace('train_original_', ''))    \n",
    "    elif (f.startswith(\"_groundtruth\")):\n",
    "        shutil.move(join(base_dir,f), mask_dir)    \n",
    "        filename=join(mask_dir,f)\n",
    "        os.rename(filename, filename.replace('_groundtruth_(1)_train_', ''))    \n",
    "        \n",
    "        \n",
    "        \n",
    "# for filename in os.listdir(image_dir):\n",
    "#     filename=join(image_dir,filename)\n",
    "# #     os.rename(filename, filename.replace('train_original_', ''))\n",
    "# for filename in os.listdir(mask_dir):\n",
    "#     filename=join(mask_dir,filename)\n",
    "#     os.rename(filename, filename.replace('_groundtruth_(1)_train_', ''))    \n",
    "\n",
    "# rename 's/train_original_//g' *.png\n",
    "# rename 's/_groundtruth_\\(1\\)_//g' *.png\n",
    "\n"
   ]
  },
  {
   "cell_type": "code",
   "execution_count": null,
   "metadata": {},
   "outputs": [],
   "source": []
  }
 ],
 "metadata": {
  "kernelspec": {
   "display_name": "Python 3",
   "language": "python",
   "name": "python3"
  },
  "language_info": {
   "codemirror_mode": {
    "name": "ipython",
    "version": 3
   },
   "file_extension": ".py",
   "mimetype": "text/x-python",
   "name": "python",
   "nbconvert_exporter": "python",
   "pygments_lexer": "ipython3",
   "version": "3.5.2"
  }
 },
 "nbformat": 4,
 "nbformat_minor": 2
}
